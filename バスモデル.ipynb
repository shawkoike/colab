{
  "nbformat": 4,
  "nbformat_minor": 0,
  "metadata": {
    "colab": {
      "name": "バスモデル.ipynb",
      "provenance": [],
      "collapsed_sections": [
        "RNhssA3DmiOY",
        "bgVFyb5St5OJ",
        "4IxcmFsZ4GwE"
      ],
      "mount_file_id": "1LeRpMQfF9Ce8S7SLhOw9si9Q4RoiF5DU",
      "authorship_tag": "ABX9TyNyu95GCvFkqqggyhqUP9H2",
      "include_colab_link": true
    },
    "kernelspec": {
      "name": "python3",
      "display_name": "Python 3"
    },
    "language_info": {
      "name": "python"
    }
  },
  "cells": [
    {
      "cell_type": "markdown",
      "metadata": {
        "id": "view-in-github",
        "colab_type": "text"
      },
      "source": [
        "<a href=\"https://colab.research.google.com/github/shawkoike/colab/blob/main/%E3%83%90%E3%82%B9%E3%83%A2%E3%83%87%E3%83%AB.ipynb\" target=\"_parent\"><img src=\"https://colab.research.google.com/assets/colab-badge.svg\" alt=\"Open In Colab\"/></a>"
      ]
    },
    {
      "cell_type": "markdown",
      "metadata": {
        "id": "ozkF2T9A7Ndv"
      },
      "source": [
        "### バスモデルとは\n",
        "\n",
        "新製品の潜在購入者を「自らの意思のみで購入する人」と「新製品の普及状況をみながら購入の意思決定をする人」によって構成される。"
      ]
    },
    {
      "cell_type": "markdown",
      "metadata": {
        "id": "EN0OSaIQikTs"
      },
      "source": [
        "つまり,     \n",
        "「t期にある製品を購入する人数」は「t-1期までにすでに購入した人の影響を受けずに購入する人」と「t-1期までにすでに購入した人の影響を受けて購入する人」の和として表現される。"
      ]
    },
    {
      "cell_type": "markdown",
      "metadata": {
        "id": "Ah500HwPjLNw"
      },
      "source": [
        "$$\n",
        "n_t = p(m - N_{t-1}) + q \\dfrac{N_{t-1}}{m}(m - N_{t-1})\n",
        "$$"
      ]
    },
    {
      "cell_type": "markdown",
      "metadata": {
        "id": "KFY9R2_DjxOf"
      },
      "source": [
        "- n(t)：t期の購入者数\n",
        "- N(t)：t期までの累積購入者数\n",
        "- m：潜在市場規模\n",
        "- p：既存の購入者とは独立な影響を表すパラメータ\n",
        "- q：既存購買者の影響を表すパラメータ\n",
        "\n",
        "右辺の前半部分が「t-1期までに既に購入した人の影響を受けずに購入する人」     \n",
        "後半部分が「t-1期までに既に購入した人の影響を受けて購入する人」"
      ]
    },
    {
      "cell_type": "code",
      "metadata": {
        "id": "zgS4um6DhMGL"
      },
      "source": [
        "import pandas as pd\n",
        "import numpy as np\n",
        "import matplotlib.pyplot as plt\n",
        "%matplotlib inline\n",
        "from sklearn import linear_model\n",
        "from math import sqrt"
      ],
      "execution_count": 5,
      "outputs": []
    },
    {
      "cell_type": "code",
      "metadata": {
        "colab": {
          "base_uri": "https://localhost:8080/",
          "height": 204
        },
        "id": "EoFodcPbhNDa",
        "outputId": "337d93da-d160-49e6-f42b-d06c2bfd735e"
      },
      "source": [
        "df = pd.read_csv(\"drive/MyDrive/Colab Notebooks/recipe/data/sample_data.csv\")\n",
        "df.head()"
      ],
      "execution_count": 6,
      "outputs": [
        {
          "output_type": "execute_result",
          "data": {
            "text/html": [
              "<div>\n",
              "<style scoped>\n",
              "    .dataframe tbody tr th:only-of-type {\n",
              "        vertical-align: middle;\n",
              "    }\n",
              "\n",
              "    .dataframe tbody tr th {\n",
              "        vertical-align: top;\n",
              "    }\n",
              "\n",
              "    .dataframe thead th {\n",
              "        text-align: right;\n",
              "    }\n",
              "</style>\n",
              "<table border=\"1\" class=\"dataframe\">\n",
              "  <thead>\n",
              "    <tr style=\"text-align: right;\">\n",
              "      <th></th>\n",
              "      <th>時点</th>\n",
              "      <th>Quantity</th>\n",
              "      <th>Total_Quantity</th>\n",
              "      <th>Last_Total_Quantity</th>\n",
              "      <th>Last_Total_Quantity_sq</th>\n",
              "    </tr>\n",
              "  </thead>\n",
              "  <tbody>\n",
              "    <tr>\n",
              "      <th>0</th>\n",
              "      <td>1</td>\n",
              "      <td>4998</td>\n",
              "      <td>4998</td>\n",
              "      <td>0</td>\n",
              "      <td>0</td>\n",
              "    </tr>\n",
              "    <tr>\n",
              "      <th>1</th>\n",
              "      <td>2</td>\n",
              "      <td>5398</td>\n",
              "      <td>10396</td>\n",
              "      <td>4998</td>\n",
              "      <td>24980004</td>\n",
              "    </tr>\n",
              "    <tr>\n",
              "      <th>2</th>\n",
              "      <td>3</td>\n",
              "      <td>5611</td>\n",
              "      <td>16007</td>\n",
              "      <td>10396</td>\n",
              "      <td>108076816</td>\n",
              "    </tr>\n",
              "    <tr>\n",
              "      <th>3</th>\n",
              "      <td>4</td>\n",
              "      <td>5574</td>\n",
              "      <td>21581</td>\n",
              "      <td>16007</td>\n",
              "      <td>256224049</td>\n",
              "    </tr>\n",
              "    <tr>\n",
              "      <th>4</th>\n",
              "      <td>5</td>\n",
              "      <td>5292</td>\n",
              "      <td>26873</td>\n",
              "      <td>21581</td>\n",
              "      <td>465739561</td>\n",
              "    </tr>\n",
              "  </tbody>\n",
              "</table>\n",
              "</div>"
            ],
            "text/plain": [
              "   時点  Quantity  Total_Quantity  Last_Total_Quantity  Last_Total_Quantity_sq\n",
              "0   1      4998            4998                    0                       0\n",
              "1   2      5398           10396                 4998                24980004\n",
              "2   3      5611           16007                10396               108076816\n",
              "3   4      5574           21581                16007               256224049\n",
              "4   5      5292           26873                21581               465739561"
            ]
          },
          "metadata": {},
          "execution_count": 6
        }
      ]
    },
    {
      "cell_type": "code",
      "metadata": {
        "colab": {
          "base_uri": "https://localhost:8080/",
          "height": 298
        },
        "id": "9BeILcIkiTB8",
        "outputId": "9a12dad0-09ef-4bc8-e13b-2bd7c2d7703c"
      },
      "source": [
        "# 「購入者」を可視化\n",
        "df[\"Quantity\"].plot(style=\"blue\")\n",
        "plt.title(\"Quantity\")"
      ],
      "execution_count": 7,
      "outputs": [
        {
          "output_type": "execute_result",
          "data": {
            "text/plain": [
              "Text(0.5, 1.0, 'Quantity')"
            ]
          },
          "metadata": {},
          "execution_count": 7
        },
        {
          "output_type": "display_data",
          "data": {
            "image/png": "[encoded data removed]",
            "text/plain": [
              "<Figure size 432x288 with 1 Axes>"
            ]
          },
          "metadata": {
            "needs_background": "light"
          }
        }
      ]
    },
    {
      "cell_type": "code",
      "metadata": {
        "colab": {
          "base_uri": "https://localhost:8080/",
          "height": 298
        },
        "id": "a-1M_9zihNeO",
        "outputId": "d9ffeabd-f9c3-4495-cd6b-764a32ef9938"
      },
      "source": [
        "# 「累積購入者数」を可視化\n",
        "df[\"Total_Quantity\"].plot(style=\"blue\")\n",
        "plt.title(\"Total Quantity\")"
      ],
      "execution_count": 9,
      "outputs": [
        {
          "output_type": "execute_result",
          "data": {
            "text/plain": [
              "Text(0.5, 1.0, 'Total Quantity')"
            ]
          },
          "metadata": {},
          "execution_count": 9
        },
        {
          "output_type": "display_data",
          "data": {
            "image/png": "[encoded data removed]",
            "text/plain": [
              "<Figure size 432x288 with 1 Axes>"
            ]
          },
          "metadata": {
            "needs_background": "light"
          }
        }
      ]
    },
    {
      "cell_type": "markdown",
      "metadata": {
        "id": "RNhssA3DmiOY"
      },
      "source": [
        "### 回帰モデルの導入"
      ]
    },
    {
      "cell_type": "markdown",
      "metadata": {
        "id": "5QCfR1cSpoQh"
      },
      "source": [
        "バスモデルの指揮を展開すると以下のようになる\n",
        "\n",
        "$$\n",
        "pm + (q - p)N_{t-1} - \\dfrac{q}{m}N^2_{t-1}\n",
        "$$\n",
        "\n",
        "ここで a = pm, b = (q-p), c = q/m とすると\n",
        "\n",
        "$$\n",
        "n_t = a + bN_{t-1} - cN^2_{t-1}\n",
        "$$"
      ]
    },
    {
      "cell_type": "markdown",
      "metadata": {
        "id": "iwXwom_wpsQI"
      },
      "source": [
        "となり、パラメータに関して線形な重回帰モデルとみなすことができる。\n",
        "よって、回帰パラメータによって a. b, c を推定する。\n",
        "\n",
        "バズモデルでは、説明変数を「一期前の時点における累積購入者数」と「一期前の時点における累積購入者数の二乗」とし、目的変数を「購入変数」とすることで重回帰モデルの構築を行っていく。"
      ]
    },
    {
      "cell_type": "code",
      "metadata": {
        "colab": {
          "base_uri": "https://localhost:8080/",
          "height": 514
        },
        "id": "Ux6prKgdq9sC",
        "outputId": "e99d7f23-22ff-4e7d-be83-e664cf7b4971"
      },
      "source": [
        "# 回帰用の新しいデータフレームを作成\n",
        "linRegData = pd.DataFrame()\n",
        "linRegData[\"Quantity\"] = df[\"Quantity\"]\n",
        "linRegData[\"N\"] = df[\"Last_Total_Quantity\"]\n",
        "linRegData[\"N**2\"] = df[\"Last_Total_Quantity_sq\"]\n",
        "linRegData"
      ],
      "execution_count": 11,
      "outputs": [
        {
          "output_type": "execute_result",
          "data": {
            "text/html": [
              "<div>\n",
              "<style scoped>\n",
              "    .dataframe tbody tr th:only-of-type {\n",
              "        vertical-align: middle;\n",
              "    }\n",
              "\n",
              "    .dataframe tbody tr th {\n",
              "        vertical-align: top;\n",
              "    }\n",
              "\n",
              "    .dataframe thead th {\n",
              "        text-align: right;\n",
              "    }\n",
              "</style>\n",
              "<table border=\"1\" class=\"dataframe\">\n",
              "  <thead>\n",
              "    <tr style=\"text-align: right;\">\n",
              "      <th></th>\n",
              "      <th>Quantity</th>\n",
              "      <th>N</th>\n",
              "      <th>N**2</th>\n",
              "    </tr>\n",
              "  </thead>\n",
              "  <tbody>\n",
              "    <tr>\n",
              "      <th>0</th>\n",
              "      <td>4998</td>\n",
              "      <td>0</td>\n",
              "      <td>0</td>\n",
              "    </tr>\n",
              "    <tr>\n",
              "      <th>1</th>\n",
              "      <td>5398</td>\n",
              "      <td>4998</td>\n",
              "      <td>24980004</td>\n",
              "    </tr>\n",
              "    <tr>\n",
              "      <th>2</th>\n",
              "      <td>5611</td>\n",
              "      <td>10396</td>\n",
              "      <td>108076816</td>\n",
              "    </tr>\n",
              "    <tr>\n",
              "      <th>3</th>\n",
              "      <td>5574</td>\n",
              "      <td>16007</td>\n",
              "      <td>256224049</td>\n",
              "    </tr>\n",
              "    <tr>\n",
              "      <th>4</th>\n",
              "      <td>5292</td>\n",
              "      <td>21581</td>\n",
              "      <td>465739561</td>\n",
              "    </tr>\n",
              "    <tr>\n",
              "      <th>5</th>\n",
              "      <td>4798</td>\n",
              "      <td>26873</td>\n",
              "      <td>722158129</td>\n",
              "    </tr>\n",
              "    <tr>\n",
              "      <th>6</th>\n",
              "      <td>4157</td>\n",
              "      <td>31671</td>\n",
              "      <td>1003052241</td>\n",
              "    </tr>\n",
              "    <tr>\n",
              "      <th>7</th>\n",
              "      <td>3445</td>\n",
              "      <td>35828</td>\n",
              "      <td>1283645584</td>\n",
              "    </tr>\n",
              "    <tr>\n",
              "      <th>8</th>\n",
              "      <td>2762</td>\n",
              "      <td>39273</td>\n",
              "      <td>1542368529</td>\n",
              "    </tr>\n",
              "    <tr>\n",
              "      <th>9</th>\n",
              "      <td>2141</td>\n",
              "      <td>42035</td>\n",
              "      <td>1766941225</td>\n",
              "    </tr>\n",
              "    <tr>\n",
              "      <th>10</th>\n",
              "      <td>1609</td>\n",
              "      <td>44176</td>\n",
              "      <td>1951518976</td>\n",
              "    </tr>\n",
              "    <tr>\n",
              "      <th>11</th>\n",
              "      <td>1199</td>\n",
              "      <td>45785</td>\n",
              "      <td>2096266225</td>\n",
              "    </tr>\n",
              "    <tr>\n",
              "      <th>12</th>\n",
              "      <td>871</td>\n",
              "      <td>46984</td>\n",
              "      <td>2207496256</td>\n",
              "    </tr>\n",
              "    <tr>\n",
              "      <th>13</th>\n",
              "      <td>629</td>\n",
              "      <td>47855</td>\n",
              "      <td>2290101025</td>\n",
              "    </tr>\n",
              "    <tr>\n",
              "      <th>14</th>\n",
              "      <td>448</td>\n",
              "      <td>48484</td>\n",
              "      <td>2350698256</td>\n",
              "    </tr>\n",
              "  </tbody>\n",
              "</table>\n",
              "</div>"
            ],
            "text/plain": [
              "    Quantity      N        N**2\n",
              "0       4998      0           0\n",
              "1       5398   4998    24980004\n",
              "2       5611  10396   108076816\n",
              "3       5574  16007   256224049\n",
              "4       5292  21581   465739561\n",
              "5       4798  26873   722158129\n",
              "6       4157  31671  1003052241\n",
              "7       3445  35828  1283645584\n",
              "8       2762  39273  1542368529\n",
              "9       2141  42035  1766941225\n",
              "10      1609  44176  1951518976\n",
              "11      1199  45785  2096266225\n",
              "12       871  46984  2207496256\n",
              "13       629  47855  2290101025\n",
              "14       448  48484  2350698256"
            ]
          },
          "metadata": {},
          "execution_count": 11
        }
      ]
    },
    {
      "cell_type": "code",
      "metadata": {
        "colab": {
          "base_uri": "https://localhost:8080/"
        },
        "id": "k-s9wMnds85g",
        "outputId": "98b36f4b-e2a2-4358-c75b-6f71e8878324"
      },
      "source": [
        "# 回帰分析\n",
        "linearRegression = linear_model.LinearRegression()\n",
        "linearRegression.fit(linRegData[[\"N\", \"N**2\"]].values, linRegData[\"Quantity\"].values)"
      ],
      "execution_count": 13,
      "outputs": [
        {
          "output_type": "execute_result",
          "data": {
            "text/plain": [
              "LinearRegression(copy_X=True, fit_intercept=True, n_jobs=None, normalize=False)"
            ]
          },
          "metadata": {},
          "execution_count": 13
        }
      ]
    },
    {
      "cell_type": "code",
      "metadata": {
        "colab": {
          "base_uri": "https://localhost:8080/"
        },
        "id": "4Kkxa6fXtCOb",
        "outputId": "c9c47614-d02f-4d80-ac7b-623f3ec3d691"
      },
      "source": [
        "linearRegression.intercept_, linearRegression.coef_"
      ],
      "execution_count": 14,
      "outputs": [
        {
          "output_type": "execute_result",
          "data": {
            "text/plain": [
              "(4999.170101054309, array([ 9.99415961e-02, -3.99701729e-06]))"
            ]
          },
          "metadata": {},
          "execution_count": 14
        }
      ]
    },
    {
      "cell_type": "code",
      "metadata": {
        "colab": {
          "base_uri": "https://localhost:8080/",
          "height": 533
        },
        "id": "v_13qQ85tzOA",
        "outputId": "a1f649d1-b134-47bf-da0b-1b93f6fb7240"
      },
      "source": [
        "import statsmodels.api as sm\n",
        "\n",
        "regX_axis = sm.add_constant(linRegData[[\"N\", \"N**2\"]].values, prepend=False)\n",
        "regY_axis = linRegData[\"Quantity\"].values\n",
        "\n",
        "ols_regression = sm.OLS(regY_axis, regX_axis).fit()\n",
        "ols_regression.summary()"
      ],
      "execution_count": 17,
      "outputs": [
        {
          "output_type": "stream",
          "name": "stderr",
          "text": [
            "/usr/local/lib/python3.7/dist-packages/scipy/stats/stats.py:1535: UserWarning: kurtosistest only valid for n>=20 ... continuing anyway, n=15\n",
            "  \"anyway, n=%i\" % int(n))\n"
          ]
        },
        {
          "output_type": "execute_result",
          "data": {
            "text/html": [
              "<table class=\"simpletable\">\n",
              "<caption>OLS Regression Results</caption>\n",
              "<tr>\n",
              "  <th>Dep. Variable:</th>            <td>y</td>        <th>  R-squared:         </th> <td>   1.000</td> \n",
              "</tr>\n",
              "<tr>\n",
              "  <th>Model:</th>                   <td>OLS</td>       <th>  Adj. R-squared:    </th> <td>   1.000</td> \n",
              "</tr>\n",
              "<tr>\n",
              "  <th>Method:</th>             <td>Least Squares</td>  <th>  F-statistic:       </th> <td>3.156e+06</td>\n",
              "</tr>\n",
              "<tr>\n",
              "  <th>Date:</th>             <td>Thu, 11 Nov 2021</td> <th>  Prob (F-statistic):</th> <td>4.73e-35</td> \n",
              "</tr>\n",
              "<tr>\n",
              "  <th>Time:</th>                 <td>01:59:55</td>     <th>  Log-Likelihood:    </th> <td> -35.823</td> \n",
              "</tr>\n",
              "<tr>\n",
              "  <th>No. Observations:</th>      <td>    15</td>      <th>  AIC:               </th> <td>   77.65</td> \n",
              "</tr>\n",
              "<tr>\n",
              "  <th>Df Residuals:</th>          <td>    12</td>      <th>  BIC:               </th> <td>   79.77</td> \n",
              "</tr>\n",
              "<tr>\n",
              "  <th>Df Model:</th>              <td>     2</td>      <th>                     </th>     <td> </td>    \n",
              "</tr>\n",
              "<tr>\n",
              "  <th>Covariance Type:</th>      <td>nonrobust</td>    <th>                     </th>     <td> </td>    \n",
              "</tr>\n",
              "</table>\n",
              "<table class=\"simpletable\">\n",
              "<tr>\n",
              "    <td></td>       <th>coef</th>     <th>std err</th>      <th>t</th>      <th>P>|t|</th>  <th>[0.025</th>    <th>0.975]</th>  \n",
              "</tr>\n",
              "<tr>\n",
              "  <th>x1</th>    <td>    0.0999</td> <td>    0.000</td> <td>  489.525</td> <td> 0.000</td> <td>    0.099</td> <td>    0.100</td>\n",
              "</tr>\n",
              "<tr>\n",
              "  <th>x2</th>    <td>-3.997e-06</td> <td> 3.81e-09</td> <td>-1049.849</td> <td> 0.000</td> <td>-4.01e-06</td> <td>-3.99e-06</td>\n",
              "</tr>\n",
              "<tr>\n",
              "  <th>const</th> <td> 4999.1701</td> <td>    2.249</td> <td> 2222.766</td> <td> 0.000</td> <td> 4994.270</td> <td> 5004.070</td>\n",
              "</tr>\n",
              "</table>\n",
              "<table class=\"simpletable\">\n",
              "<tr>\n",
              "  <th>Omnibus:</th>       <td> 0.044</td> <th>  Durbin-Watson:     </th> <td>   2.873</td>\n",
              "</tr>\n",
              "<tr>\n",
              "  <th>Prob(Omnibus):</th> <td> 0.978</td> <th>  Jarque-Bera (JB):  </th> <td>   0.267</td>\n",
              "</tr>\n",
              "<tr>\n",
              "  <th>Skew:</th>          <td>-0.048</td> <th>  Prob(JB):          </th> <td>   0.875</td>\n",
              "</tr>\n",
              "<tr>\n",
              "  <th>Kurtosis:</th>      <td> 2.353</td> <th>  Cond. No.          </th> <td>4.37e+09</td>\n",
              "</tr>\n",
              "</table><br/><br/>Warnings:<br/>[1] Standard Errors assume that the covariance matrix of the errors is correctly specified.<br/>[2] The condition number is large, 4.37e+09. This might indicate that there are<br/>strong multicollinearity or other numerical problems."
            ],
            "text/plain": [
              "<class 'statsmodels.iolib.summary.Summary'>\n",
              "\"\"\"\n",
              "                            OLS Regression Results                            \n",
              "==============================================================================\n",
              "Dep. Variable:                      y   R-squared:                       1.000\n",
              "Model:                            OLS   Adj. R-squared:                  1.000\n",
              "Method:                 Least Squares   F-statistic:                 3.156e+06\n",
              "Date:                Thu, 11 Nov 2021   Prob (F-statistic):           4.73e-35\n",
              "Time:                        01:59:55   Log-Likelihood:                -35.823\n",
              "No. Observations:                  15   AIC:                             77.65\n",
              "Df Residuals:                      12   BIC:                             79.77\n",
              "Df Model:                           2                                         \n",
              "Covariance Type:            nonrobust                                         \n",
              "==============================================================================\n",
              "                 coef    std err          t      P>|t|      [0.025      0.975]\n",
              "------------------------------------------------------------------------------\n",
              "x1             0.0999      0.000    489.525      0.000       0.099       0.100\n",
              "x2         -3.997e-06   3.81e-09  -1049.849      0.000   -4.01e-06   -3.99e-06\n",
              "const       4999.1701      2.249   2222.766      0.000    4994.270    5004.070\n",
              "==============================================================================\n",
              "Omnibus:                        0.044   Durbin-Watson:                   2.873\n",
              "Prob(Omnibus):                  0.978   Jarque-Bera (JB):                0.267\n",
              "Skew:                          -0.048   Prob(JB):                        0.875\n",
              "Kurtosis:                       2.353   Cond. No.                     4.37e+09\n",
              "==============================================================================\n",
              "\n",
              "Warnings:\n",
              "[1] Standard Errors assume that the covariance matrix of the errors is correctly specified.\n",
              "[2] The condition number is large, 4.37e+09. This might indicate that there are\n",
              "strong multicollinearity or other numerical problems.\n",
              "\"\"\""
            ]
          },
          "metadata": {},
          "execution_count": 17
        }
      ]
    },
    {
      "cell_type": "markdown",
      "metadata": {
        "id": "bgVFyb5St5OJ"
      },
      "source": [
        "### バスモデルの導入\n",
        "\n",
        "上記の回帰モデルで求めた切片と偏回帰係数を用いて、バスモデルを導出していく。"
      ]
    },
    {
      "cell_type": "code",
      "metadata": {
        "colab": {
          "base_uri": "https://localhost:8080/"
        },
        "id": "CsjPERh3uyJ7",
        "outputId": "8323b53b-8194-46ba-f547-0baa34ebaeec"
      },
      "source": [
        "# T = 推定区間\n",
        "T = 14\n",
        "a = linearRegression.intercept_\n",
        "b = linearRegression.coef_[0]\n",
        "c = linearRegression.coef_[1]\n",
        "a, b, c"
      ],
      "execution_count": 18,
      "outputs": [
        {
          "output_type": "execute_result",
          "data": {
            "text/plain": [
              "(4999.170101054309, 0.09994159608950114, -3.99701728678897e-06)"
            ]
          },
          "metadata": {},
          "execution_count": 18
        }
      ]
    },
    {
      "cell_type": "code",
      "metadata": {
        "colab": {
          "base_uri": "https://localhost:8080/"
        },
        "id": "t-jPdk5Nw926",
        "outputId": "a3f99694-4e8c-4ab3-8c9a-d9d4e329fccd"
      },
      "source": [
        "# m を求める（解と係数の関係）\n",
        "m = (-b - sqrt(b ** 2-(4 * a * c))) / (2 * c)\n",
        "m"
      ],
      "execution_count": 20,
      "outputs": [
        {
          "output_type": "execute_result",
          "data": {
            "text/plain": [
              "50012.36347728622"
            ]
          },
          "metadata": {},
          "execution_count": 20
        }
      ]
    },
    {
      "cell_type": "code",
      "metadata": {
        "colab": {
          "base_uri": "https://localhost:8080/"
        },
        "id": "CI48O0RsxFYS",
        "outputId": "191aa928-d387-49ae-cf80-fd8bd85d3c43"
      },
      "source": [
        "# a, b, c を用いてパラメータ p, q を推定\n",
        "p = a / m\n",
        "q = p + b\n",
        "\n",
        "p, q"
      ],
      "execution_count": 21,
      "outputs": [
        {
          "output_type": "execute_result",
          "data": {
            "text/plain": [
              "(0.0999586852823852, 0.19990028137188634)"
            ]
          },
          "metadata": {},
          "execution_count": 21
        }
      ]
    },
    {
      "cell_type": "code",
      "metadata": {
        "id": "qtBsiv9SxfGJ"
      },
      "source": [
        "# 購入者数予測と累積購入者数予測を行っていく\n",
        "predictionQt2 = [0,]\n",
        "predictionN2 = [0,]\n",
        "\n",
        "for i in range(0, T):\n",
        "  N = predictionN2[i]\n",
        "  adoptationT = (p*m)+(q-p)*N + (-q/m) * N**2\n",
        "  adoptationT = round(adoptationT, 2)\n",
        "  predictionQt2.append(adoptationT)\n",
        "  predictionN2.append((predictionN2[i]+adoptationT))"
      ],
      "execution_count": 25,
      "outputs": []
    },
    {
      "cell_type": "code",
      "metadata": {
        "id": "CNVGgv5DzfmG"
      },
      "source": [
        "bass_df = pd.DataFrame()\n",
        "bass_df[\"Prediction_Quantity\"] = predictionQt2\n",
        "bass_df[\"Prediction_Total_Quantity\"] = predictionN2\n",
        "\n",
        "df = bass_df.join(df, on=None, how=\"left\")"
      ],
      "execution_count": 26,
      "outputs": []
    },
    {
      "cell_type": "code",
      "metadata": {
        "colab": {
          "base_uri": "https://localhost:8080/",
          "height": 514
        },
        "id": "DkWbDO-gzgjL",
        "outputId": "bdd561d0-f0e0-47c0-c354-c05aaf5a7d08"
      },
      "source": [
        "df"
      ],
      "execution_count": 27,
      "outputs": [
        {
          "output_type": "execute_result",
          "data": {
            "text/html": [
              "<div>\n",
              "<style scoped>\n",
              "    .dataframe tbody tr th:only-of-type {\n",
              "        vertical-align: middle;\n",
              "    }\n",
              "\n",
              "    .dataframe tbody tr th {\n",
              "        vertical-align: top;\n",
              "    }\n",
              "\n",
              "    .dataframe thead th {\n",
              "        text-align: right;\n",
              "    }\n",
              "</style>\n",
              "<table border=\"1\" class=\"dataframe\">\n",
              "  <thead>\n",
              "    <tr style=\"text-align: right;\">\n",
              "      <th></th>\n",
              "      <th>Prediction_Quantity</th>\n",
              "      <th>Prediction_Total_Quantity</th>\n",
              "      <th>時点</th>\n",
              "      <th>Quantity</th>\n",
              "      <th>Total_Quantity</th>\n",
              "      <th>Last_Total_Quantity</th>\n",
              "      <th>Last_Total_Quantity_sq</th>\n",
              "    </tr>\n",
              "  </thead>\n",
              "  <tbody>\n",
              "    <tr>\n",
              "      <th>0</th>\n",
              "      <td>0.00</td>\n",
              "      <td>0.00</td>\n",
              "      <td>1</td>\n",
              "      <td>4998</td>\n",
              "      <td>4998</td>\n",
              "      <td>0</td>\n",
              "      <td>0</td>\n",
              "    </tr>\n",
              "    <tr>\n",
              "      <th>1</th>\n",
              "      <td>4999.17</td>\n",
              "      <td>4999.17</td>\n",
              "      <td>2</td>\n",
              "      <td>5398</td>\n",
              "      <td>10396</td>\n",
              "      <td>4998</td>\n",
              "      <td>24980004</td>\n",
              "    </tr>\n",
              "    <tr>\n",
              "      <th>2</th>\n",
              "      <td>5398.90</td>\n",
              "      <td>10398.07</td>\n",
              "      <td>3</td>\n",
              "      <td>5611</td>\n",
              "      <td>16007</td>\n",
              "      <td>10396</td>\n",
              "      <td>108076816</td>\n",
              "    </tr>\n",
              "    <tr>\n",
              "      <th>3</th>\n",
              "      <td>5606.21</td>\n",
              "      <td>16004.28</td>\n",
              "      <td>4</td>\n",
              "      <td>5574</td>\n",
              "      <td>21581</td>\n",
              "      <td>16007</td>\n",
              "      <td>256224049</td>\n",
              "    </tr>\n",
              "    <tr>\n",
              "      <th>4</th>\n",
              "      <td>5574.88</td>\n",
              "      <td>21579.16</td>\n",
              "      <td>5</td>\n",
              "      <td>5292</td>\n",
              "      <td>26873</td>\n",
              "      <td>21581</td>\n",
              "      <td>465739561</td>\n",
              "    </tr>\n",
              "    <tr>\n",
              "      <th>5</th>\n",
              "      <td>5294.57</td>\n",
              "      <td>26873.73</td>\n",
              "      <td>6</td>\n",
              "      <td>4798</td>\n",
              "      <td>31671</td>\n",
              "      <td>26873</td>\n",
              "      <td>722158129</td>\n",
              "    </tr>\n",
              "    <tr>\n",
              "      <th>6</th>\n",
              "      <td>4798.34</td>\n",
              "      <td>31672.07</td>\n",
              "      <td>7</td>\n",
              "      <td>4157</td>\n",
              "      <td>35828</td>\n",
              "      <td>31671</td>\n",
              "      <td>1003052241</td>\n",
              "    </tr>\n",
              "    <tr>\n",
              "      <th>7</th>\n",
              "      <td>4155.04</td>\n",
              "      <td>35827.11</td>\n",
              "      <td>8</td>\n",
              "      <td>3445</td>\n",
              "      <td>39273</td>\n",
              "      <td>35828</td>\n",
              "      <td>1283645584</td>\n",
              "    </tr>\n",
              "    <tr>\n",
              "      <th>8</th>\n",
              "      <td>3449.29</td>\n",
              "      <td>39276.40</td>\n",
              "      <td>9</td>\n",
              "      <td>2762</td>\n",
              "      <td>42035</td>\n",
              "      <td>39273</td>\n",
              "      <td>1542368529</td>\n",
              "    </tr>\n",
              "    <tr>\n",
              "      <th>9</th>\n",
              "      <td>2758.58</td>\n",
              "      <td>42034.98</td>\n",
              "      <td>10</td>\n",
              "      <td>2141</td>\n",
              "      <td>44176</td>\n",
              "      <td>42035</td>\n",
              "      <td>1766941225</td>\n",
              "    </tr>\n",
              "    <tr>\n",
              "      <th>10</th>\n",
              "      <td>2137.73</td>\n",
              "      <td>44172.71</td>\n",
              "      <td>11</td>\n",
              "      <td>1609</td>\n",
              "      <td>45785</td>\n",
              "      <td>44176</td>\n",
              "      <td>1951518976</td>\n",
              "    </tr>\n",
              "    <tr>\n",
              "      <th>11</th>\n",
              "      <td>1614.77</td>\n",
              "      <td>45787.48</td>\n",
              "      <td>12</td>\n",
              "      <td>1199</td>\n",
              "      <td>46984</td>\n",
              "      <td>45785</td>\n",
              "      <td>2096266225</td>\n",
              "    </tr>\n",
              "    <tr>\n",
              "      <th>12</th>\n",
              "      <td>1195.52</td>\n",
              "      <td>46983.00</td>\n",
              "      <td>13</td>\n",
              "      <td>871</td>\n",
              "      <td>47855</td>\n",
              "      <td>46984</td>\n",
              "      <td>2207496256</td>\n",
              "    </tr>\n",
              "    <tr>\n",
              "      <th>13</th>\n",
              "      <td>871.70</td>\n",
              "      <td>47854.70</td>\n",
              "      <td>14</td>\n",
              "      <td>629</td>\n",
              "      <td>48484</td>\n",
              "      <td>47855</td>\n",
              "      <td>2290101025</td>\n",
              "    </tr>\n",
              "    <tr>\n",
              "      <th>14</th>\n",
              "      <td>628.39</td>\n",
              "      <td>48483.09</td>\n",
              "      <td>15</td>\n",
              "      <td>448</td>\n",
              "      <td>48932</td>\n",
              "      <td>48484</td>\n",
              "      <td>2350698256</td>\n",
              "    </tr>\n",
              "  </tbody>\n",
              "</table>\n",
              "</div>"
            ],
            "text/plain": [
              "    Prediction_Quantity  ...  Last_Total_Quantity_sq\n",
              "0                  0.00  ...                       0\n",
              "1               4999.17  ...                24980004\n",
              "2               5398.90  ...               108076816\n",
              "3               5606.21  ...               256224049\n",
              "4               5574.88  ...               465739561\n",
              "5               5294.57  ...               722158129\n",
              "6               4798.34  ...              1003052241\n",
              "7               4155.04  ...              1283645584\n",
              "8               3449.29  ...              1542368529\n",
              "9               2758.58  ...              1766941225\n",
              "10              2137.73  ...              1951518976\n",
              "11              1614.77  ...              2096266225\n",
              "12              1195.52  ...              2207496256\n",
              "13               871.70  ...              2290101025\n",
              "14               628.39  ...              2350698256\n",
              "\n",
              "[15 rows x 7 columns]"
            ]
          },
          "metadata": {},
          "execution_count": 27
        }
      ]
    },
    {
      "cell_type": "markdown",
      "metadata": {
        "id": "4IxcmFsZ4GwE"
      },
      "source": [
        "### 評価"
      ]
    },
    {
      "cell_type": "code",
      "metadata": {
        "colab": {
          "base_uri": "https://localhost:8080/",
          "height": 424
        },
        "id": "EzdGCmtd4I9_",
        "outputId": "71bf347a-5fd1-4270-cc86-aa1275d07a2e"
      },
      "source": [
        "# 購入者数予測\n",
        "plt.figure(figsize=(12, 6))\n",
        "df[\"Prediction_Quantity\"].plot(color=\"orange\")\n",
        "df[\"Quantity\"].plot(alpha=0.5)\n",
        "plt.title(\"Bass Model(Quantity)\")\n",
        "plt.legend()\n",
        "plt.figure()"
      ],
      "execution_count": 32,
      "outputs": [
        {
          "output_type": "execute_result",
          "data": {
            "text/plain": [
              "<Figure size 432x288 with 0 Axes>"
            ]
          },
          "metadata": {},
          "execution_count": 32
        },
        {
          "output_type": "display_data",
          "data": {
            "image/png": "[encoded data removed]",
            "text/plain": [
              "<Figure size 864x432 with 1 Axes>"
            ]
          },
          "metadata": {
            "needs_background": "light"
          }
        },
        {
          "output_type": "display_data",
          "data": {
            "text/plain": [
              "<Figure size 432x288 with 0 Axes>"
            ]
          },
          "metadata": {}
        }
      ]
    },
    {
      "cell_type": "code",
      "metadata": {
        "colab": {
          "base_uri": "https://localhost:8080/",
          "height": 424
        },
        "id": "00ipXLk7NFUT",
        "outputId": "55001608-ca50-4c53-eaf5-c9c750464ee2"
      },
      "source": [
        "# 普及プロセス\n",
        "plt.figure(figsize = (12, 6))\n",
        "df[\"Prediction_Total_Quantity\"].plot(color=\"orange\")\n",
        "df[\"Total_Quantity\"].plot(alpha=0.5)\n",
        "plt.title(\"Bass Model(Total Quantity)\")\n",
        "plt.legend()\n",
        "plt.figure()"
      ],
      "execution_count": 34,
      "outputs": [
        {
          "output_type": "execute_result",
          "data": {
            "text/plain": [
              "<Figure size 432x288 with 0 Axes>"
            ]
          },
          "metadata": {},
          "execution_count": 34
        },
        {
          "output_type": "display_data",
          "data": {
            "image/png": "[encoded data removed]",
            "text/plain": [
              "<Figure size 864x432 with 1 Axes>"
            ]
          },
          "metadata": {
            "needs_background": "light"
          }
        },
        {
          "output_type": "display_data",
          "data": {
            "text/plain": [
              "<Figure size 432x288 with 0 Axes>"
            ]
          },
          "metadata": {}
        }
      ]
    },
    {
      "cell_type": "markdown",
      "metadata": {
        "id": "CbqAEawITOEa"
      },
      "source": [
        "### 考察"
      ]
    },
    {
      "cell_type": "markdown",
      "metadata": {
        "id": "IYl4XUnQUa_b"
      },
      "source": [
        "- p = イノベーション係数     \n",
        "- q = イミテーション係数     \n",
        "\n",
        "と言い換えることができる。\n",
        "\n",
        "今回の分析では q > p なのでイミテーション係数の方が大きい。\n",
        "\n",
        "すなわちこのサンプル製品は既存購入者の影響が強く、緩やかに普及していると評価することができる。\n",
        "\n",
        "逆に p > q の場合は、イノベーション係数の方が大きいので既存の購入者に影響されずに購入する人が多いことが推測でき、急速に普及すると考えられる。"
      ]
    },
    {
      "cell_type": "code",
      "metadata": {
        "id": "FSdQLE9vU5_r"
      },
      "source": [
        ""
      ],
      "execution_count": null,
      "outputs": []
    }
  ]
}